{
 "cells": [
  {
   "cell_type": "code",
   "execution_count": 1,
   "metadata": {},
   "outputs": [],
   "source": [
    "import os\n",
    "import cv2\n",
    "import numpy as np\n",
    "import pickle\n",
    "import matplotlib.pyplot as plt\n",
    "from tqdm import tqdm\n",
    "import time\n",
    "start_time = time.time()"
   ]
  },
  {
   "cell_type": "code",
   "execution_count": 2,
   "metadata": {},
   "outputs": [
    {
     "name": "stderr",
     "output_type": "stream",
     "text": [
      "100%|██████████████████████████████████████████████████████████████████████████████| 8794/8794 [04:07<00:00, 35.56it/s]\n"
     ]
    }
   ],
   "source": [
    "train_image = []\n",
    "IMG_SIZ = 120\n",
    "train_dir = \"C:/Users/Jitender kumar/Desktop/Intel HackFury2/Train_data\"\n",
    "\n",
    "for entry_name in tqdm(os.listdir(train_dir)):\n",
    "    path = os.path.join(train_dir, entry_name)\n",
    "    #img = cv2.imread(path)\n",
    "    try:\n",
    "        img = cv2.imread(path, cv2.IMREAD_GRAYSCALE)\n",
    "        new_img = cv2.resize(img, (IMG_SIZ, IMG_SIZ))\n",
    "        '''new_img = np.array(new_img)\n",
    "        print(type(new_img))\n",
    "        cv2.imshow('Image', new_img)\n",
    "        cv2.waitKey(0)\n",
    "        cv2.destroyAllWindows()\n",
    "        break '''\n",
    "        train_image.append(new_img)\n",
    "    except Exception as e:\n",
    "        print(e)"
   ]
  },
  {
   "cell_type": "code",
   "execution_count": 3,
   "metadata": {},
   "outputs": [
    {
     "name": "stdout",
     "output_type": "stream",
     "text": [
      "(8794, 120, 120)\n"
     ]
    }
   ],
   "source": [
    "train_image = np.array(train_image)\n",
    "print(train_image.shape)"
   ]
  },
  {
   "cell_type": "code",
   "execution_count": null,
   "metadata": {},
   "outputs": [
    {
     "name": "stderr",
     "output_type": "stream",
     "text": [
      " 56%|████████████████████████████████████████████▊                                   | 547/977 [00:11<00:08, 47.94it/s]"
     ]
    }
   ],
   "source": [
    "test_image = []\n",
    "IMG_SIZ = 120\n",
    "test_dir = \"C:/Users/Jitender kumar/Desktop/Intel HackFury2/Test_data\"\n",
    "\n",
    "for entry_name in tqdm(os.listdir(test_dir)):\n",
    "    path = os.path.join(test_dir, entry_name)\n",
    "    #img = cv2.imread(path)\n",
    "    try:\n",
    "        img = cv2.imread(path, cv2.IMREAD_GRAYSCALE)\n",
    "        new_img = cv2.resize(img, (IMG_SIZ, IMG_SIZ))\n",
    "        '''new_img = np.array(new_img)\n",
    "        print(type(new_img))\n",
    "        cv2.imshow('Image', new_img)\n",
    "        cv2.waitKey(0)\n",
    "        cv2.destroyAllWindows()\n",
    "        break '''\n",
    "        test_image.append(new_img)\n",
    "    except Exception as e:\n",
    "        print(e)"
   ]
  },
  {
   "cell_type": "code",
   "execution_count": null,
   "metadata": {},
   "outputs": [],
   "source": [
    "test_image = np.array(test_image)\n",
    "print(test_image.shape)"
   ]
  },
  {
   "cell_type": "code",
   "execution_count": null,
   "metadata": {},
   "outputs": [],
   "source": [
    "#pickle_out = open(\"train_image.pickle\",\"wb\")\n",
    "#pickle.dump(train_image, pickle_out)\n",
    "#pickle_out.close()"
   ]
  },
  {
   "cell_type": "code",
   "execution_count": null,
   "metadata": {},
   "outputs": [],
   "source": [
    "#pickle_out = open(\"test_image.pickle\",\"wb\")\n",
    "#pickle.dump(test_image, pickle_out)\n",
    "#pickle_out.close()"
   ]
  },
  {
   "cell_type": "code",
   "execution_count": null,
   "metadata": {},
   "outputs": [],
   "source": [
    "plt.imshow(train_image[0], cmap=plt.cm.binary)\n",
    "plt.show()"
   ]
  },
  {
   "cell_type": "code",
   "execution_count": null,
   "metadata": {},
   "outputs": [],
   "source": [
    "print(\"--- %s seconds ---\" % (time.time() - start_time))"
   ]
  }
 ],
 "metadata": {
  "kernelspec": {
   "display_name": "Python 3",
   "language": "python",
   "name": "python3"
  },
  "language_info": {
   "codemirror_mode": {
    "name": "ipython",
    "version": 3
   },
   "file_extension": ".py",
   "mimetype": "text/x-python",
   "name": "python",
   "nbconvert_exporter": "python",
   "pygments_lexer": "ipython3",
   "version": "3.6.4"
  }
 },
 "nbformat": 4,
 "nbformat_minor": 2
}
